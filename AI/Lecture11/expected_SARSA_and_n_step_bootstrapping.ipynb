{
 "cells": [
  {
   "cell_type": "markdown",
   "metadata": {
    "id": "WMapQn0-y2Bk"
   },
   "source": [
    "# Expected SARSA and $n$-step bootstrapping \n",
    "\n",
    "In this notebook, you will implement expected SARSA and $n$-step bookstrapping described in Chapters 6 and 7 of [Sutton and Barto's book, Introduction to Reinforcement Learning](http://incompleteideas.net/book/the-book-2nd.html).  "
   ]
  },
  {
   "cell_type": "markdown",
   "metadata": {
    "id": "e9vApPmQFGUs"
   },
   "source": [
    "### Install dependencies"
   ]
  },
  {
   "cell_type": "code",
   "execution_count": 2,
   "metadata": {
    "id": "e9pkLaPNMOTP"
   },
   "outputs": [
    {
     "name": "stdout",
     "output_type": "stream",
     "text": [
      "Requirement already satisfied: numpy in /home/valdemar/GitHub/Sem5/AI/venv/lib/python3.12/site-packages (2.1.1)\n",
      "Requirement already satisfied: pandas in /home/valdemar/GitHub/Sem5/AI/venv/lib/python3.12/site-packages (2.2.3)\n",
      "Requirement already satisfied: python-dateutil>=2.8.2 in /home/valdemar/GitHub/Sem5/AI/venv/lib/python3.12/site-packages (from pandas) (2.9.0.post0)\n",
      "Requirement already satisfied: pytz>=2020.1 in /home/valdemar/GitHub/Sem5/AI/venv/lib/python3.12/site-packages (from pandas) (2024.2)\n",
      "Requirement already satisfied: tzdata>=2022.7 in /home/valdemar/GitHub/Sem5/AI/venv/lib/python3.12/site-packages (from pandas) (2024.2)\n",
      "Requirement already satisfied: six>=1.5 in /home/valdemar/GitHub/Sem5/AI/venv/lib/python3.12/site-packages (from python-dateutil>=2.8.2->pandas) (1.16.0)\n"
     ]
    }
   ],
   "source": [
    "! pip install numpy pandas"
   ]
  },
  {
   "cell_type": "markdown",
   "metadata": {
    "id": "Q8kdEPNmFOCr"
   },
   "source": [
    "### Imports"
   ]
  },
  {
   "cell_type": "code",
   "execution_count": 3,
   "metadata": {
    "id": "T9cAvA0GLkXh"
   },
   "outputs": [],
   "source": [
    "import numpy as np\n",
    "import random\n",
    "import sys          # We use sys to get the max value of a float\n",
    "import pandas as pd # We only use pandas for displaying tables nicely\n",
    "pd.options.display.float_format = '{:,.3f}'.format"
   ]
  },
  {
   "cell_type": "markdown",
   "metadata": {
    "id": "lTNglEH9FR8f"
   },
   "source": [
    "### ```World``` class and globals\n",
    "\n",
    "The ```World``` is a grid represented as a two-dimensional array of characters where each character can represent free space, an obstacle, or a terminal. Each non-obstacle cell is associated with a reward that an agent gets for moving to that cell (can be 0). The size of the world is _width_ $\\times$ _height_ characters.\n",
    "\n",
    "A _state_ is a tuple $(x,y)$.\n",
    "\n",
    "An empty world is created in the ```__init__``` method. Obstacles, rewards and terminals can then be added with ```add_obstacle``` and ```add_reward```.\n",
    "\n",
    "To calculate the next state of an agent (that is, an agent is in some state $s = (x,y)$ and performs and action, $a$), ```get_next_state()```should be called."
   ]
  },
  {
   "cell_type": "code",
   "execution_count": 4,
   "metadata": {
    "id": "wMAd6qTASn9u"
   },
   "outputs": [],
   "source": [
    "# Globals:\n",
    "ACTIONS = (\"up\", \"down\", \"left\", \"right\") \n",
    "\n",
    "# Rewards, terminals and obstacles are characters:\n",
    "REWARDS = {\" \": 0, \".\": 0.1, \"+\": 10, \"-\": -10}\n",
    "TERMINALS = (\"+\", \"-\") # Note a terminal should also have a reward assigned\n",
    "OBSTACLES = (\"#\")\n",
    "\n",
    "# Discount factor\n",
    "gamma = 1\n",
    "\n",
    "# The probability of a random move:\n",
    "rand_move_probability = 0\n",
    "\n",
    "class World:  \n",
    "  def __init__(self, width, height):\n",
    "    self.width = width\n",
    "    self.height = height\n",
    "    # Create an empty world where the agent can move to all cells\n",
    "    self.grid = np.full((width, height), ' ', dtype='U1')\n",
    "  \n",
    "  def add_obstacle(self, start_x, start_y, end_x=None, end_y=None):\n",
    "    \"\"\"\n",
    "    Create an obstacle in either a single cell or rectangle.\n",
    "    \"\"\"\n",
    "    if end_x == None: end_x = start_x\n",
    "    if end_y == None: end_y = start_y\n",
    "    \n",
    "    self.grid[start_x:end_x + 1, start_y:end_y + 1] = OBSTACLES[0]\n",
    "\n",
    "  def add_reward(self, x, y, reward):\n",
    "    assert reward in REWARDS, f\"{reward} not in {REWARDS}\"\n",
    "    self.grid[x, y] = reward\n",
    "\n",
    "  def add_terminal(self, x, y, terminal):\n",
    "    assert terminal in TERMINALS, f\"{terminal} not in {TERMINALS}\"\n",
    "    self.grid[x, y] = terminal\n",
    "\n",
    "  def is_obstacle(self, x, y):\n",
    "    if x < 0 or x >= self.width or y < 0 or y >= self.height:\n",
    "      return True\n",
    "    else:\n",
    "      return self.grid[x ,y] in OBSTACLES \n",
    "\n",
    "  def is_terminal(self, x, y):\n",
    "    return self.grid[x ,y] in TERMINALS\n",
    "\n",
    "  def get_reward(self, x, y):\n",
    "    \"\"\" \n",
    "    Return the reward associated with a given location\n",
    "    \"\"\" \n",
    "    return REWARDS[self.grid[x, y]]\n",
    "\n",
    "  def get_next_state(self, current_state, action):\n",
    "    \"\"\"\n",
    "    Get the next state given a current state and an action. The outcome can be\n",
    "    stochastic  where rand_move_probability determines the probability of \n",
    "    ignoring the action and performing a random move.\n",
    "    \"\"\"    \n",
    "    assert action in ACTIONS, f\"Unknown acion {action} must be one of {ACTIONS}\"\n",
    "    \n",
    "    x, y = current_state \n",
    "    \n",
    "    # If our current state is a terminal, there is no next state\n",
    "    if self.grid[x, y] in TERMINALS:\n",
    "      return None\n",
    "\n",
    "    # Check of a random action should be performed:\n",
    "    if np.random.rand() < rand_move_probability:\n",
    "      action = np.random.choice(ACTIONS)\n",
    "\n",
    "    if action == \"up\":      y -= 1\n",
    "    elif action == \"down\":  y += 1\n",
    "    elif action == \"left\":  x -= 1\n",
    "    elif action == \"right\": x += 1\n",
    "\n",
    "    # If the next state is an obstacle, stay in the current state\n",
    "    return (x, y) if not self.is_obstacle(x, y) else current_state\n"
   ]
  },
  {
   "cell_type": "markdown",
   "metadata": {
    "id": "vKybFbwCG478"
   },
   "source": [
    "## A simple world\n",
    "\n",
    "We will create a simple $8\\times8$ world, where the agent should start in the top-left corner at $(0,0)$ and find its way to the bottom-right corner at $(7,7)$."
   ]
  },
  {
   "cell_type": "code",
   "execution_count": 5,
   "metadata": {
    "colab": {
     "base_uri": "https://localhost:8080/"
    },
    "id": "fVpq3vosHAol",
    "outputId": "c29365e2-2dea-4772-907d-af80719ffa37"
   },
   "outputs": [
    {
     "name": "stdout",
     "output_type": "stream",
     "text": [
      "[[' ' ' ' ' ' ' ' ' ' ' ' ' ' ' ']\n",
      " [' ' ' ' ' ' ' ' ' ' ' ' ' ' ' ']\n",
      " [' ' ' ' ' ' ' ' ' ' ' ' ' ' ' ']\n",
      " [' ' ' ' ' ' ' ' ' ' ' ' ' ' ' ']\n",
      " [' ' ' ' ' ' ' ' ' ' ' ' ' ' ' ']\n",
      " [' ' ' ' ' ' ' ' ' ' ' ' ' ' ' ']\n",
      " [' ' ' ' ' ' ' ' ' ' ' ' ' ' ' ']\n",
      " [' ' ' ' ' ' ' ' ' ' ' ' ' ' '+']]\n"
     ]
    }
   ],
   "source": [
    "world = World(8, 8) # 8 8\n",
    "world.add_terminal(7, 7, \"+\") # 7 7\n",
    "\n",
    "print(world.grid.T)"
   ]
  },
  {
   "cell_type": "markdown",
   "metadata": {
    "id": "HK_bFSHsQJYr"
   },
   "source": [
    "## Exercise: Expected SARSA\n",
    "\n",
    "Implement and test expected SARSA, see page 133 of [Introduction to Reinforcement Learning](http://incompleteideas.net/book/the-book-2nd.html). The implementation of expected SARSA is very similar to regular SARSA, so you can use your SARSA implementation as a starting point for your expected SARSA implementation."
   ]
  },
  {
   "cell_type": "code",
   "execution_count": 6,
   "metadata": {
    "id": "wEIxyiw1J1fd"
   },
   "outputs": [
    {
     "name": "stdout",
     "output_type": "stream",
     "text": [
      "       0      1      2      3      4      5      6      7\n",
      "0  right   down   left   left  right   down   left   down\n",
      "1   down   down   down   left   down   left     up   left\n",
      "2  right   down  right  right   down   left  right   left\n",
      "3  right  right  right  right   down   down   down  right\n",
      "4   down  right     up     up   down   down   left   left\n",
      "5  right  right     up     up  right   down   left     up\n",
      "6     up   down     up   left     up  right   down   down\n",
      "7  right     up   down   left   left  right  right   GOAL\n"
     ]
    }
   ],
   "source": [
    "# TODO: Implement your code here -- you need a Q-table to keep track of action \n",
    "#       value estimates and a policy-function that returns an epsilon greedy \n",
    "#       policy based on your estimates.\n",
    "\n",
    "epsilon = 0.1\n",
    "Q = np.random.rand(world.width, world.height, len(ACTIONS))\n",
    "gamma = 0.9\n",
    "alpha = 0.05\n",
    "\n",
    "\n",
    "def SARSA_policy(x,y):\n",
    "    actions = { a : epsilon/len(ACTIONS) for a in ACTIONS }\n",
    "    actions[ACTIONS[np.argmax(Q[x,y,:])]] = 1 - epsilon + epsilon/len(ACTIONS)\n",
    "    return actions\n",
    "\n",
    "def expected_sarsa(world, policy, start_state):\n",
    "    steps = 0\n",
    "    current_state = start_state\n",
    "\n",
    "    possible_actions = policy(*current_state)\n",
    "    current_action = random.choices(population=list(possible_actions.keys()), weights=possible_actions.values(), k=1)\n",
    "    # print(current_action)\n",
    "\n",
    "\n",
    "    while not world.is_terminal(*current_state):\n",
    "        steps += 1\n",
    "        # print(steps)\n",
    "        # Get the next state from the world\n",
    "        next_state = world.get_next_state(current_state, current_action[0])\n",
    "\n",
    "        possible_actions = policy(*next_state)\n",
    "        \n",
    "        # Get the reward for performing the action\n",
    "        reward = world.get_reward(*next_state)\n",
    "        \n",
    "        next_action = random.choices(population=list(possible_actions.keys()), weights=possible_actions.values(), k=1)\n",
    "\n",
    "\n",
    "        x, y = current_state\n",
    "        nx, ny = next_state\n",
    "\n",
    "        expected_value = 0\n",
    "        for action in ACTIONS:\n",
    "            action_prob = possible_actions[action]\n",
    "            action_index = ACTIONS.index(action)\n",
    "            expected_value += action_prob + Q[nx, ny, action_index]\n",
    "\n",
    "        Q[x,y, ACTIONS.index(current_action[0])] = Q[x,y, ACTIONS.index(current_action[0])] + alpha * (reward + gamma * Q[nx,ny, ACTIONS.index(next_action[0])] - Q[x,y, ACTIONS.index(current_action[0])])\n",
    "        current_state = next_state\n",
    "        current_action = next_action\n",
    "\n",
    "\n",
    "EPISODES = 1000\n",
    "\n",
    "for episode in range(EPISODES):\n",
    "    # print(f\"Episode {episode + 1 }/{EPISODES}:\")\n",
    "    expected_sarsa(world, SARSA_policy, (0, 0))\n",
    "    \n",
    "highest_action = np.full((world.width, world.height), '      ')\n",
    "for x in range(world.width):\n",
    "    for y in range(world.height):\n",
    "        highest_action[x, y] = ACTIONS[np.argmax(Q[x, y])]\n",
    "highest_action[7, 7] = 'GOAL'\n",
    "print(pd.DataFrame(highest_action.T))\n",
    "\n",
    "\n",
    "\n"
   ]
  },
  {
   "cell_type": "code",
   "execution_count": null,
   "metadata": {},
   "outputs": [],
   "source": []
  },
  {
   "cell_type": "markdown",
   "metadata": {
    "id": "J2WCoz60zN_t"
   },
   "source": [
    "Try your expected SARSA implementation on the $8\\times8$ world defined above."
   ]
  },
  {
   "cell_type": "code",
   "execution_count": 7,
   "metadata": {
    "id": "_J7MOXnFgXZI"
   },
   "outputs": [],
   "source": [
    "### TODO: try your expected SARSA implementation "
   ]
  },
  {
   "cell_type": "markdown",
   "metadata": {
    "id": "KPwkIEt_hRlS"
   },
   "source": [
    "### Test and compare your expected SARSA implementation\n",
    "\n",
    "Test your implementation on the simple $8 \\times 8$ world defined above with, ```rand_move_probability = 0.0```, $\\epsilon = 0.1$, and $\\gamma = 0.9$. Compare the performance of expected SARSA with normal SARSA. How long does it take for the respective methods to solve the tasks optimally (that is, number of steps that an agent takes from start to finish = _width_ + _height_ $-2 = 14$). \n",
    "\n",
    "Remember that for expected SARSA, you can use a learning rate of 1 ($\\alpha = 1)$, whereas for SARSA, you should try different learning rates.\n"
   ]
  },
  {
   "cell_type": "code",
   "execution_count": 8,
   "metadata": {
    "id": "Dz1Sqh95hoyC"
   },
   "outputs": [
    {
     "name": "stdout",
     "output_type": "stream",
     "text": [
      "       0      1      2      3      4      5      6     7\n",
      "0   down  right   down   down  right   down     up  down\n",
      "1   down  right   down   down   left   down   left  down\n",
      "2   down   left   down   down   left   down   down  down\n",
      "3   down  right   down     up   down  right   left  down\n",
      "4   left   down   down   down   down   down   down  down\n",
      "5  right   left  right  right  right   down   down  down\n",
      "6     up     up  right     up   down     up  right  down\n",
      "7     up   left  right  right  right  right  right  GOAL\n"
     ]
    }
   ],
   "source": [
    "rand_move_probability = 0.0\n",
    "epsilon = 0.1\n",
    "gamma = 0.9\n",
    "\n",
    "### TODO: Compare the performance of SARSA (different alphas) and \n",
    "###       expected SARSA (alpha = 1). You need to run multiple \n",
    "###       experiments (e.g. 100 per setting) and then take the average \n",
    "###       to get a proper estimate of the general performance.\n",
    "\n",
    "EPISODES = 1000\n",
    "alpha = 1\n",
    "\n",
    "for episode in range(EPISODES):\n",
    "    # print(f\"Episode {episode + 1 }/{EPISODES}:\")\n",
    "    expected_sarsa(world, SARSA_policy, (0, 0))\n",
    "    \n",
    "highest_action = np.full((world.width, world.height), '      ')\n",
    "for x in range(world.width):\n",
    "    for y in range(world.height):\n",
    "        highest_action[x, y] = ACTIONS[np.argmax(Q[x, y])]\n",
    "highest_action[7, 7] = 'GOAL'\n",
    "print(pd.DataFrame(highest_action.T))\n",
    "\n"
   ]
  },
  {
   "cell_type": "markdown",
   "metadata": {
    "id": "QwPpd9OKmqYb"
   },
   "source": [
    "## Exercise: $n$-step on-policy SARSA or $n$-step on-policy expected SARSA\n",
    "\n",
    "Here, you should implement on-policy $n$-step bootstrapping. You can either implement $n$-step SARSA or $n$-step expected SARSA. See Chapter 7 in [Introduction to Reinforcement Learning](http://incompleteideas.net/book/the-book-2nd.html) and page 147 for $n$-step SARSA.\n",
    "\n",
    "Test you implementation with different values of $n$ either on the $8\\times8$ world above or on the ```WindyGridWorld``` from previous lectures. It is up to you to decide how to measure performance: it could, for instance, be the average episode length after a limited number of episodes (for instance $10$), how long it takes to solve the task optimally, like in the exercise on expected SARSA above, or something else.\n",
    "\n",
    "For the world that you choose, you have to answer the question: \"What is a good value for $n$?\""
   ]
  },
  {
   "cell_type": "code",
   "execution_count": 9,
   "metadata": {
    "id": "MsdFod-Xx5iY"
   },
   "outputs": [],
   "source": [
    "### TODO: Implment and test n-step SARSA or n-step expected SARSA.\n",
    "\n",
    "epsilon = 0.1\n",
    "Q = np.random.rand(world.width, world.height, len(ACTIONS))\n",
    "gamma = 0.9\n",
    "alpha = 0.05\n",
    "\n",
    "def e_greedy(x,y):\n",
    "    actions = { a : epsilon/len(ACTIONS) for a in ACTIONS }\n",
    "    actions[ACTIONS[np.argmax(Q[x,y,:])]] = 1 - epsilon + epsilon/len(ACTIONS)\n",
    "    return actions\n",
    "\n",
    "def nsarsa(world, n, start_state):\n",
    "    # state_buffer = [None] * (n + 1) ## Buffer til at gemme state, action og rewards\n",
    "    # action_buffer = [None] * (n + 1)\n",
    "    # reward_buffer = [0.0] * (n + 1)\n",
    "    print(\"tetetetet\")\n",
    "    state_buffer = []\n",
    "    action_buffer = []\n",
    "    reward_buffer = []\n",
    "    \n",
    "    reward_buffer.append(0)\n",
    "\n",
    "\n",
    "    current_state = start_state\n",
    "    possible_actions = e_greedy(*current_state)\n",
    "    current_action = random.choices(\n",
    "        population=list(possible_actions.keys()),\n",
    "        weights=possible_actions.values(),\n",
    "        k=1\n",
    "    )\n",
    "    current_action_no_list = current_action[0]\n",
    "    # print(current_action_no_list)\n",
    "\n",
    "    state_buffer.append(current_state)\n",
    "    action_buffer.append(current_action_no_list)\n",
    "\n",
    "    T = np.inf\n",
    "    t = 0\n",
    "    tau = 0\n",
    "    G = 0\n",
    "\n",
    "    while tau != T - 1:\n",
    "\n",
    "        print(\"BOOGOGOG\")\n",
    "        if t < T:\n",
    "            # Get the next state from the world\n",
    "            next_state = world.get_next_state(current_state, current_action_no_list)\n",
    "\n",
    "            # Get the reward for performing the action\n",
    "            reward = world.get_reward(*next_state)\n",
    "\n",
    "            # Gem data i buffer\n",
    "            # state_buffer[t % (n + 1)] = current_state # modulo laver en cirkulær datastruktur så gammel data overskrives\n",
    "            # action_buffer[t % (n + 1)] = current_action_no_list\n",
    "            # reward_buffer[t % (n + 1)] = reward\n",
    "            state_buffer.append(current_state)\n",
    "            action_buffer.append(current_action_no_list)\n",
    "            reward_buffer.append(reward)\n",
    "\n",
    "            # print(action_buffer)\n",
    "\n",
    "            if world.is_terminal(*next_state):\n",
    "                T = t + 1\n",
    "            else:\n",
    "                next_action = e_greedy(*next_state)\n",
    "\n",
    "                current_state = next_state\n",
    "                current_action = next_action\n",
    "\n",
    "        tau = t - n + 1\n",
    "\n",
    "        print(\"HEJSA\")\n",
    "\n",
    "        if tau >= 0:\n",
    "            print(\"WALLAL\")\n",
    "            # G = np.sum(gamma**(i - tau -1) * reward_buffer[i % (n+1)] for i in range(tau, min(tau + n, T)))\n",
    "            print(action_buffer)\n",
    "\n",
    "            for i in range(tau+1,min(tau+n,T)+1):\n",
    "                # G += gamma ** (i - tau - 1) * reward_buffer[i % (n+1)]\n",
    "                G += np.power(gamma, (i - tau - 1)) * reward_buffer[i]\n",
    "\n",
    "            if tau + n < T:\n",
    "                # G += gamma**n * Q[state_buffer[(tau + n) % (n +1)], action_buffer[(tau + n) % (n + 1)]]\n",
    "                G += gamma**n * Q[state_buffer[tau+n][0], state_buffer[tau+n][1], ACTIONS.index(action_buffer[tau+n])]\n",
    "\n",
    "                    \n",
    "            state_tau = state_buffer[tau]\n",
    "            \n",
    "            action_tau = ACTIONS.index(action_buffer[tau])\n",
    "            \n",
    "            print(\"a:\", state_tau[0] ,\"b:\", state_tau[1], \"action_tau:\", action_tau)\n",
    "            print(\"G:\", G, \"Q[a, b, action_tau]:\", Q[state_tau[0], state_tau[1], action_tau])\n",
    "\n",
    "          \n",
    "            Q[state_tau[0], state_tau[1], action_tau] += alpha * (G - Q[state_tau[0], state_tau[1], action_tau])\n",
    "\n",
    "        t += 1\n",
    "\n"
   ]
  },
  {
   "cell_type": "code",
   "execution_count": 10,
   "metadata": {},
   "outputs": [],
   "source": [
    "EPISODES = 1000\n",
    "\n",
    "for episode in range(EPISODES):\n",
    "    # print(f\"Episode {episode + 1 }/{EPISODES}:\")\n",
    "    nsarsa(world, 5, (0, 0))\n",
    "    # \n",
    "highest_action = np.full((world.width, world.height), '      ')\n",
    "for x in range(world.width):\n",
    "    for y in range(world.height):\n",
    "        highest_action[x, y] = ACTIONS[np.argmax(Q[x, y])]\n",
    "highest_action[7, 7] = 'GOAL'\n",
    "print(pd.DataFrame(highest_action.T))\n",
    "\n",
    "\n"
   ]
  }
 ],
 "metadata": {
  "colab": {
   "provenance": []
  },
  "kernelspec": {
   "display_name": "venv",
   "language": "python",
   "name": "python3"
  },
  "language_info": {
   "codemirror_mode": {
    "name": "ipython",
    "version": 3
   },
   "file_extension": ".py",
   "mimetype": "text/x-python",
   "name": "python",
   "nbconvert_exporter": "python",
   "pygments_lexer": "ipython3",
   "version": "3.12.3"
  }
 },
 "nbformat": 4,
 "nbformat_minor": 0
}
