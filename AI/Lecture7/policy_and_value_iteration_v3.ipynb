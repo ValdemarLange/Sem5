{
 "cells": [
  {
   "cell_type": "markdown",
   "metadata": {
    "id": "WMapQn0-y2Bk"
   },
   "source": [
    "# Policy iteration and value iteration\n",
    "\n",
    "In this notebook, you will implement different dynamic programming approaches described in [Sutton and Barto's book, Introduction to Reinforcement Learning](http://incompleteideas.net/book/the-book-2nd.html). A grid ```World``` class and policy iteration has been implemented. Feel free to add more actions, rewards and/or terminals, or to modify the code to suit your needs."
   ]
  },
  {
   "cell_type": "markdown",
   "metadata": {
    "id": "e9vApPmQFGUs"
   },
   "source": [
    "### Install dependencies"
   ]
  },
  {
   "cell_type": "code",
   "execution_count": 207,
   "metadata": {
    "colab": {
     "base_uri": "https://localhost:8080/"
    },
    "id": "e9pkLaPNMOTP",
    "outputId": "8adb5191-7368-4ed0-ecf0-730f2fe217ab"
   },
   "outputs": [
    {
     "name": "stdout",
     "output_type": "stream",
     "text": [
      "Requirement already satisfied: numpy in /home/valdemar/GitHub/Sem5/AI/venv/lib/python3.12/site-packages (2.1.1)\n",
      "Requirement already satisfied: pandas in /home/valdemar/GitHub/Sem5/AI/venv/lib/python3.12/site-packages (2.2.3)\n",
      "Requirement already satisfied: python-dateutil>=2.8.2 in /home/valdemar/GitHub/Sem5/AI/venv/lib/python3.12/site-packages (from pandas) (2.9.0.post0)\n",
      "Requirement already satisfied: pytz>=2020.1 in /home/valdemar/GitHub/Sem5/AI/venv/lib/python3.12/site-packages (from pandas) (2024.2)\n",
      "Requirement already satisfied: tzdata>=2022.7 in /home/valdemar/GitHub/Sem5/AI/venv/lib/python3.12/site-packages (from pandas) (2024.2)\n",
      "Requirement already satisfied: six>=1.5 in /home/valdemar/GitHub/Sem5/AI/venv/lib/python3.12/site-packages (from python-dateutil>=2.8.2->pandas) (1.16.0)\n"
     ]
    }
   ],
   "source": [
    "! pip install numpy pandas"
   ]
  },
  {
   "cell_type": "markdown",
   "metadata": {
    "id": "Q8kdEPNmFOCr"
   },
   "source": [
    "### Imports"
   ]
  },
  {
   "cell_type": "markdown",
   "metadata": {
    "id": "Wl4F2OZK3Xz3"
   },
   "source": []
  },
  {
   "cell_type": "code",
   "execution_count": 208,
   "metadata": {
    "id": "T9cAvA0GLkXh"
   },
   "outputs": [],
   "source": [
    "import numpy as np\n",
    "import sys          # We use sys to get the max value of a float\n",
    "import pandas as pd # We only use pandas for displaying tables nicely\n",
    "pd.options.display.float_format = '{:,.3f}'.format"
   ]
  },
  {
   "cell_type": "markdown",
   "metadata": {
    "id": "lTNglEH9FR8f"
   },
   "source": [
    "### ```World``` class and globals\n",
    "\n",
    "The ```World``` is a grid represented as a two-dimensional array of characters where each character can represent free space, an obstacle, or a terminal. Each non-obstacle cell is associated with a reward that an agent gets for moving to that cell (can be 0). The size of the world is _width_ $\\times$ _height_ characters.\n",
    "\n",
    "A _state_ is a tuple $(x,y)$.\n",
    "\n",
    "An empty world is created in the ```__init__``` method. Obstacles, rewards and terminals can then be added with ```add_obstacle``` and ```add_reward```.\n",
    "\n",
    "To calculate the next state of an agent (that is, an agent is in some state $s = (x,y)$ and performs and action, $a$), ```get_next_state()```should be called. It will only be relevant to call this function later on, when we do learning based on interaction with the environment and where an agent actually has to move.\n",
    "\n",
    "For now, you will only need the probabilities over next states given an action, $a$, that is, call ```get_state_transition_probabilities```."
   ]
  },
  {
   "cell_type": "code",
   "execution_count": 209,
   "metadata": {
    "id": "wMAd6qTASn9u"
   },
   "outputs": [],
   "source": [
    "# Globals:\n",
    "ACTIONS = (\"up\", \"down\", \"left\", \"right\")\n",
    "\n",
    "# Rewards, terminals and obstacles are characters:\n",
    "REWARDS = {\" \": 0, \".\": 0.1, \"+\": 10, \"-\": -10}\n",
    "TERMINALS = (\"+\", \"-\") # Note a terminal should also have a reward assigned\n",
    "OBSTACLES = (\"#\")\n",
    "\n",
    "# Discount factor\n",
    "gamma = 1\n",
    "\n",
    "# The probability of a random move:\n",
    "rand_move_probability = 0\n",
    "\n",
    "class World:\n",
    "  def __init__(self, width, height):\n",
    "    self.width = width\n",
    "    self.height = height\n",
    "    # Create an empty world where the agent can move to all cells\n",
    "    self.grid = np.full((width, height), ' ', dtype='U1')\n",
    "\n",
    "  def add_obstacle(self, start_x, start_y, end_x=None, end_y=None):\n",
    "    \"\"\"\n",
    "    Create an obstacle in either a single cell or rectangle.\n",
    "    \"\"\"\n",
    "    if end_x == None: end_x = start_x\n",
    "    if end_y == None: end_y = start_y\n",
    "\n",
    "    self.grid[start_x:end_x + 1, start_y:end_y + 1] = OBSTACLES[0]\n",
    "\n",
    "  def add_reward(self, x, y, reward):\n",
    "    assert reward in REWARDS, f\"{reward} not in {REWARDS}\"\n",
    "    self.grid[x, y] = reward\n",
    "\n",
    "  def add_terminal(self, x, y, terminal):\n",
    "    assert terminal in TERMINALS, f\"{terminal} not in {TERMINALS}\"\n",
    "    self.grid[x, y] = terminal\n",
    "\n",
    "  def is_obstacle(self, x, y):\n",
    "    if x < 0 or x >= self.width or y < 0 or y >= self.height:\n",
    "      return True\n",
    "    else:\n",
    "      return self.grid[x ,y] in OBSTACLES\n",
    "\n",
    "  def is_terminal(self, x, y):\n",
    "    return self.grid[x ,y] in TERMINALS\n",
    "\n",
    "  def get_reward(self, x, y):\n",
    "    \"\"\"\n",
    "    Return the reward associated with a given location\n",
    "    \"\"\"\n",
    "    return REWARDS[self.grid[x, y]]\n",
    "\n",
    "  def get_next_state(self, current_state, action, deterministic=False):\n",
    "    \"\"\"\n",
    "    Get the next state given a current state and an action. Can eiter be\n",
    "    deterministic (no random actions) or non-deterministic,\n",
    "    where rand_move_probability determines the probability of ignoring the\n",
    "    action and performing a random move.\n",
    "    \"\"\"\n",
    "    assert action in ACTIONS, f\"Unknown acion {action} must be one of {ACTIONS}\"\n",
    "\n",
    "    x, y = current_state\n",
    "\n",
    "    # If our current state is a terminal, there is no next state\n",
    "    if self.grid[x, y] in TERMINALS:\n",
    "      return None\n",
    "\n",
    "    # Check of a random action should be performed:\n",
    "    if not deterministic and np.random.rand() < rand_move_probability:\n",
    "      action = np.random.choice(ACTIONS)\n",
    "\n",
    "    if action == \"up\":      y -= 1\n",
    "    elif action == \"down\":  y += 1\n",
    "    elif action == \"left\":  x -= 1\n",
    "    elif action == \"right\": x += 1\n",
    "\n",
    "    # If the next state is an obstacle, stay in the current state\n",
    "    return (x, y) if not self.is_obstacle(x, y) else current_state\n",
    "\n",
    "  def get_state_transition_probabilities(self, current_state, action):\n",
    "    \"\"\"\n",
    "    Returns a dict where key = state and value = probability given current state\n",
    "    is (x,y) and \"action\" is performed.\n",
    "    \"\"\"\n",
    "    assert action in ACTIONS, f\"Unknown acion {action} must be one of {ACTIONS}\"\n",
    "\n",
    "    x, y = current_state\n",
    "    if self.is_terminal(x, y):\n",
    "      return {}\n",
    "\n",
    "    next_state_probabilities = {}\n",
    "    # Since there is rand_move_probability of performing any action, we have to\n",
    "    # go through all actions and check what their next state would be:\n",
    "    for a in ACTIONS:\n",
    "      next_state = self.get_next_state((x, y), a, deterministic=True)\n",
    "      if a == action:\n",
    "        prob = 1 - rand_move_probability + rand_move_probability / len(ACTIONS)\n",
    "      else:\n",
    "        prob = rand_move_probability / len(ACTIONS)\n",
    "\n",
    "      if next_state in next_state_probabilities:\n",
    "        next_state_probabilities[next_state] += prob\n",
    "      else:\n",
    "        if prob > 0.0:\n",
    "          next_state_probabilities[next_state] = prob\n",
    "\n",
    "    return next_state_probabilities"
   ]
  },
  {
   "cell_type": "markdown",
   "metadata": {
    "id": "UxncUHvz1_Hb"
   },
   "source": [
    "## Basic examples: World, obstacles, rewards and terminals\n",
    "\n",
    "Below are some examples to illustrate how the ```World``` class works.\n",
    "\n",
    "First, we create a 4x4 world:"
   ]
  },
  {
   "cell_type": "code",
   "execution_count": 210,
   "metadata": {
    "colab": {
     "base_uri": "https://localhost:8080/"
    },
    "id": "dL-XC6-aN6ss",
    "outputId": "1ca1d560-5d87-4820-eba5-93e3b94c20d7"
   },
   "outputs": [
    {
     "name": "stdout",
     "output_type": "stream",
     "text": [
      "[[' ' ' ' ' ' ' ']\n",
      " [' ' ' ' ' ' ' ']\n",
      " [' ' ' ' ' ' ' ']\n",
      " [' ' ' ' ' ' ' ']]\n"
     ]
    }
   ],
   "source": [
    "world = World(4, 4)\n",
    "\n",
    "# Note, that we have to transpose the 2D array (.T) for (x,y)\n",
    "# to match the convention when displayed\n",
    "print(world.grid.T)"
   ]
  },
  {
   "cell_type": "markdown",
   "metadata": {
    "id": "L1C8CRt92wqf"
   },
   "source": [
    "Obstacles and terminals are all represented as single characters:"
   ]
  },
  {
   "cell_type": "code",
   "execution_count": 211,
   "metadata": {
    "colab": {
     "base_uri": "https://localhost:8080/"
    },
    "id": "BKlTP05N2xEe",
    "outputId": "5170d9c4-a30f-46c6-cadf-6da30def53e3"
   },
   "outputs": [
    {
     "name": "stdout",
     "output_type": "stream",
     "text": [
      "Obstacles: #\n",
      "Terminals: ('+', '-')\n"
     ]
    }
   ],
   "source": [
    "print(f\"Obstacles: {OBSTACLES}\")\n",
    "print(f\"Terminals: {TERMINALS}\")"
   ]
  },
  {
   "cell_type": "markdown",
   "metadata": {
    "id": "c30K2bDd3yyI"
   },
   "source": [
    "Rewards are also represented as characters in the world, but they have an associated value (note that defining a value for an empty space \"  \" is equivalent to the agent receiving that reward each time a move is made):"
   ]
  },
  {
   "cell_type": "code",
   "execution_count": 212,
   "metadata": {
    "colab": {
     "base_uri": "https://localhost:8080/"
    },
    "id": "54TwLFOb3y-1",
    "outputId": "8501ede1-5773-409d-edd4-ba1031edad07"
   },
   "outputs": [
    {
     "name": "stdout",
     "output_type": "stream",
     "text": [
      "Rewards: {' ': 0, '.': 0.1, '+': 10, '-': -10}\n"
     ]
    }
   ],
   "source": [
    "print(f\"Rewards: {REWARDS}\")"
   ]
  },
  {
   "cell_type": "markdown",
   "metadata": {
    "id": "LcG0mAYl4ux7"
   },
   "source": [
    "To assign rewards to terminal states, just use the same character in the ```REWARDS``` dict and in the ```TERMINALS``` tuple."
   ]
  },
  {
   "cell_type": "code",
   "execution_count": 213,
   "metadata": {
    "colab": {
     "base_uri": "https://localhost:8080/",
     "height": 281
    },
    "id": "7MinV0Bg49dB",
    "outputId": "8e48ee49-439b-4a5d-b561-8d9a27f0a873"
   },
   "outputs": [
    {
     "name": "stdout",
     "output_type": "stream",
     "text": [
      "Terminal + has reward 10\n",
      "Terminal - has reward -10\n",
      "[['+' ' ' ' ' ' ']\n",
      " [' ' ' ' ' ' ' ']\n",
      " [' ' ' ' ' ' ' ']\n",
      " [' ' ' ' ' ' '-']]\n"
     ]
    },
    {
     "data": {
      "text/html": [
       "<div>\n",
       "<style scoped>\n",
       "    .dataframe tbody tr th:only-of-type {\n",
       "        vertical-align: middle;\n",
       "    }\n",
       "\n",
       "    .dataframe tbody tr th {\n",
       "        vertical-align: top;\n",
       "    }\n",
       "\n",
       "    .dataframe thead th {\n",
       "        text-align: right;\n",
       "    }\n",
       "</style>\n",
       "<table border=\"1\" class=\"dataframe\">\n",
       "  <thead>\n",
       "    <tr style=\"text-align: right;\">\n",
       "      <th></th>\n",
       "      <th>0</th>\n",
       "      <th>1</th>\n",
       "      <th>2</th>\n",
       "      <th>3</th>\n",
       "    </tr>\n",
       "  </thead>\n",
       "  <tbody>\n",
       "    <tr>\n",
       "      <th>0</th>\n",
       "      <td>+</td>\n",
       "      <td></td>\n",
       "      <td></td>\n",
       "      <td></td>\n",
       "    </tr>\n",
       "    <tr>\n",
       "      <th>1</th>\n",
       "      <td></td>\n",
       "      <td></td>\n",
       "      <td></td>\n",
       "      <td></td>\n",
       "    </tr>\n",
       "    <tr>\n",
       "      <th>2</th>\n",
       "      <td></td>\n",
       "      <td></td>\n",
       "      <td></td>\n",
       "      <td></td>\n",
       "    </tr>\n",
       "    <tr>\n",
       "      <th>3</th>\n",
       "      <td></td>\n",
       "      <td></td>\n",
       "      <td></td>\n",
       "      <td>-</td>\n",
       "    </tr>\n",
       "  </tbody>\n",
       "</table>\n",
       "</div>"
      ],
      "text/plain": [
       "   0  1  2  3\n",
       "0  +         \n",
       "1            \n",
       "2            \n",
       "3           -"
      ]
     },
     "metadata": {},
     "output_type": "display_data"
    }
   ],
   "source": [
    "for t in TERMINALS:\n",
    "  print(f\"Terminal {t} has reward {REWARDS[t]}\")\n",
    "\n",
    "world.add_terminal(0, 0, \"+\")\n",
    "world.add_terminal(3, 3, \"-\")\n",
    "\n",
    "\n",
    "print(world.grid.T)\n",
    "\n",
    "# An alternative way of displaying the world using pandas:\n",
    "display(pd.DataFrame(world.grid.T))"
   ]
  },
  {
   "cell_type": "markdown",
   "metadata": {
    "id": "94bkx57KdvGD"
   },
   "source": [
    "## Policies ($\\pi$)\n",
    "\n",
    "Recall that a policy, $\\pi(a|s) = \\Pr(A_t = a | S_t = s)$, maps states to action probabilities. In the code below, we let policies return the probabilities of each possible action given a state. States are $(x, y)$ coordinates and the policy must return action probabilities as a dict where the action is the ```key``` and the corresponding ```value``` is the probability of taking that action in the given state. Deterministic policies, for instance, return a dict with only one entry (e.g. ```{ \"up\": 1 } ``` if the action for the current state is ```up```).\n",
    "\n",
    "A random policy can be defined as follows:\n"
   ]
  },
  {
   "cell_type": "code",
   "execution_count": 214,
   "metadata": {
    "colab": {
     "base_uri": "https://localhost:8080/"
    },
    "id": "Vhf3hfg9eCYS",
    "outputId": "af326e4c-db54-4b82-977f-6d2ef451383e"
   },
   "outputs": [
    {
     "name": "stdout",
     "output_type": "stream",
     "text": [
      "{'up': 0.25, 'down': 0.25, 'left': 0.25, 'right': 0.25}\n"
     ]
    }
   ],
   "source": [
    "def equiprobable_random_policy(x, y):\n",
    "  return { k : 1 / len(ACTIONS) for k in ACTIONS }\n",
    "\n",
    "# Example (since the action probabilities do not depend on the state in this\n",
    "# basic policy, we can just call it for state (0, 0)):\n",
    "print(equiprobable_random_policy(0, 0))"
   ]
  },
  {
   "cell_type": "markdown",
   "metadata": {
    "id": "nGK61Lk8dcd2"
   },
   "source": [
    "## Iterative policy evaluation\n",
    "\n",
    "\n",
    "Iterative policy evaluation takes a ```World```, a discount factor, $\\gamma$ (```gamma```, defined above in the ```World``` code cell), a policy, $\\pi$, and a threshold, $\\theta$ (```theta```), that determines when to stop the iteration. You can also specify a maximum number of iterations which can be useful for debugging using the ```max_iterations``` argument.\n",
    "\n",
    "**IMPORTANT:** Remember that in iterative policy evaluation, we just learn state values ($V_\\pi$) given a policy $\\pi$. We are **not** trying to learn a policy.\n",
    "\n",
    "(see page 74-75 of [Introduction to Reinforcement Learning](http://incompleteideas.net/book/the-book-2nd.html) for an explanation and the algorithm)\n"
   ]
  },
  {
   "cell_type": "code",
   "execution_count": 215,
   "metadata": {
    "id": "9fpxspw3b8U1"
   },
   "outputs": [],
   "source": [
    "def iterative_policy_evaluation(world, policy, theta=1e-5, max_iterations=1e3): #1e3\n",
    "\n",
    "  # Our initial estimates for all states in the world is 0:\n",
    "  V = np.full((world.width, world.height), 0.0)\n",
    "  counter = 0\n",
    "  while True:\n",
    "    counter += 1\n",
    "    # delta keeps track of the largest change in one iteration, so we set it to\n",
    "    # 0 at the start of each iteration:\n",
    "    delta = 0\n",
    "\n",
    "    # Loop over all states (x,y)\n",
    "    for y in range(world.height):\n",
    "      for x in range(world.width):\n",
    "        if not world.is_obstacle(x, y):\n",
    "          # Get action probabilities for the current state:\n",
    "          actions = policy(x, y)\n",
    "\n",
    "          # v is the new estimate that will be updated in the loop:\n",
    "          v = 0\n",
    "\n",
    "          # loop over all actions that our policy says that we can perform\n",
    "          # in the current state:\n",
    "          for action, action_prob in actions.items():\n",
    "            # For each action, get state transition probabilities and\n",
    "            # accumulate in v rewards weighted with action and state transition\n",
    "            # probabilities:\n",
    "            for (xi, yi), state_prob in world.get_state_transition_probabilities((x, y), action).items():\n",
    "              v += action_prob * state_prob * (world.get_reward(xi, yi) + gamma * V[xi, yi])\n",
    "\n",
    "          # update delta (largest change in estimate so far)\n",
    "          delta = max(delta, abs(v - V[x, y]))\n",
    "          V[x, y] = v\n",
    "\n",
    "    # check if current state value estimates are close enought to end:\n",
    "    if delta <= theta:\n",
    "      break\n",
    "\n",
    "    max_iterations -= 1\n",
    "    if max_iterations == 0:\n",
    "      break\n",
    "\n",
    "  print(counter)\n",
    "  # Return the state value estimates\n",
    "  return V\n"
   ]
  },
  {
   "cell_type": "markdown",
   "metadata": {
    "id": "MlZK9xU65iS2"
   },
   "source": [
    "## Implementation of Example 4.1 from the book\n",
    "\n",
    "Below, you can see the implementation of Example 4.1 on page 76 in the book [Introduction to Reinforcement Learning](http://incompleteideas.net/book/the-book-2nd.html)"
   ]
  },
  {
   "cell_type": "code",
   "execution_count": 216,
   "metadata": {
    "colab": {
     "base_uri": "https://localhost:8080/"
    },
    "id": "mQG26oW05idR",
    "outputId": "5d3998a6-4022-4bc6-e6c8-a87045efc1f5"
   },
   "outputs": [
    {
     "name": "stdout",
     "output_type": "stream",
     "text": [
      "[['+' ' ' ' ' ' ']\n",
      " [' ' ' ' ' ' ' ']\n",
      " [' ' ' ' ' ' ' ']\n",
      " [' ' ' ' ' ' '+']]\n"
     ]
    }
   ],
   "source": [
    "# World is 4x4\n",
    "world = World(4, 4)\n",
    "\n",
    "# Rewards are -1 for each move (including when hitting a terminal state, \"+\"):\n",
    "REWARDS = {\" \": -1, \"+\": -1}\n",
    "\n",
    "\n",
    "# Add terminal states in two corners\n",
    "world.add_terminal(0, 0, \"+\")\n",
    "world.add_terminal(3, 3, \"+\")\n",
    "\n",
    "print(world.grid.T)"
   ]
  },
  {
   "cell_type": "code",
   "execution_count": 217,
   "metadata": {
    "colab": {
     "base_uri": "https://localhost:8080/",
     "height": 175
    },
    "id": "tMudqC-OBUWo",
    "outputId": "24738d14-0186-445b-e1fa-12053ee05c48"
   },
   "outputs": [
    {
     "name": "stdout",
     "output_type": "stream",
     "text": [
      "141\n"
     ]
    },
    {
     "data": {
      "text/html": [
       "<div>\n",
       "<style scoped>\n",
       "    .dataframe tbody tr th:only-of-type {\n",
       "        vertical-align: middle;\n",
       "    }\n",
       "\n",
       "    .dataframe tbody tr th {\n",
       "        vertical-align: top;\n",
       "    }\n",
       "\n",
       "    .dataframe thead th {\n",
       "        text-align: right;\n",
       "    }\n",
       "</style>\n",
       "<table border=\"1\" class=\"dataframe\">\n",
       "  <thead>\n",
       "    <tr style=\"text-align: right;\">\n",
       "      <th></th>\n",
       "      <th>0</th>\n",
       "      <th>1</th>\n",
       "      <th>2</th>\n",
       "      <th>3</th>\n",
       "    </tr>\n",
       "  </thead>\n",
       "  <tbody>\n",
       "    <tr>\n",
       "      <th>0</th>\n",
       "      <td>0.000</td>\n",
       "      <td>-14.000</td>\n",
       "      <td>-20.000</td>\n",
       "      <td>-22.000</td>\n",
       "    </tr>\n",
       "    <tr>\n",
       "      <th>1</th>\n",
       "      <td>-14.000</td>\n",
       "      <td>-18.000</td>\n",
       "      <td>-20.000</td>\n",
       "      <td>-20.000</td>\n",
       "    </tr>\n",
       "    <tr>\n",
       "      <th>2</th>\n",
       "      <td>-20.000</td>\n",
       "      <td>-20.000</td>\n",
       "      <td>-18.000</td>\n",
       "      <td>-14.000</td>\n",
       "    </tr>\n",
       "    <tr>\n",
       "      <th>3</th>\n",
       "      <td>-22.000</td>\n",
       "      <td>-20.000</td>\n",
       "      <td>-14.000</td>\n",
       "      <td>0.000</td>\n",
       "    </tr>\n",
       "  </tbody>\n",
       "</table>\n",
       "</div>"
      ],
      "text/plain": [
       "        0       1       2       3\n",
       "0   0.000 -14.000 -20.000 -22.000\n",
       "1 -14.000 -18.000 -20.000 -20.000\n",
       "2 -20.000 -20.000 -18.000 -14.000\n",
       "3 -22.000 -20.000 -14.000   0.000"
      ]
     },
     "metadata": {},
     "output_type": "display_data"
    }
   ],
   "source": [
    "gamma = 1\n",
    "V = iterative_policy_evaluation(world, equiprobable_random_policy)\n",
    "\n",
    "display(pd.DataFrame(V.T))"
   ]
  },
  {
   "cell_type": "markdown",
   "metadata": {
    "id": "QNagzYkLaqAe"
   },
   "source": [
    "## Exercise - policy and discount factor\n",
    "\n",
    "Experiment with example 4.1: what effect does it have to change the policy, e.g. so that an agent always goes left or always goes right? What effect does it have on state values to change the value of the discount factor (```gamma```)?"
   ]
  },
  {
   "cell_type": "code",
   "execution_count": 218,
   "metadata": {
    "id": "krYhqYtTOGhD"
   },
   "outputs": [
    {
     "name": "stdout",
     "output_type": "stream",
     "text": [
      "1000\n",
      "go_right_policy | gamma: 1\n"
     ]
    },
    {
     "data": {
      "text/html": [
       "<div>\n",
       "<style scoped>\n",
       "    .dataframe tbody tr th:only-of-type {\n",
       "        vertical-align: middle;\n",
       "    }\n",
       "\n",
       "    .dataframe tbody tr th {\n",
       "        vertical-align: top;\n",
       "    }\n",
       "\n",
       "    .dataframe thead th {\n",
       "        text-align: right;\n",
       "    }\n",
       "</style>\n",
       "<table border=\"1\" class=\"dataframe\">\n",
       "  <thead>\n",
       "    <tr style=\"text-align: right;\">\n",
       "      <th></th>\n",
       "      <th>0</th>\n",
       "      <th>1</th>\n",
       "      <th>2</th>\n",
       "      <th>3</th>\n",
       "    </tr>\n",
       "  </thead>\n",
       "  <tbody>\n",
       "    <tr>\n",
       "      <th>0</th>\n",
       "      <td>0.000</td>\n",
       "      <td>-1,000.000</td>\n",
       "      <td>-1,000.000</td>\n",
       "      <td>-1,000.000</td>\n",
       "    </tr>\n",
       "    <tr>\n",
       "      <th>1</th>\n",
       "      <td>-1,000.000</td>\n",
       "      <td>-1,000.000</td>\n",
       "      <td>-1,000.000</td>\n",
       "      <td>-1,000.000</td>\n",
       "    </tr>\n",
       "    <tr>\n",
       "      <th>2</th>\n",
       "      <td>-1,000.000</td>\n",
       "      <td>-1,000.000</td>\n",
       "      <td>-1,000.000</td>\n",
       "      <td>-1,000.000</td>\n",
       "    </tr>\n",
       "    <tr>\n",
       "      <th>3</th>\n",
       "      <td>-3.000</td>\n",
       "      <td>-2.000</td>\n",
       "      <td>-1.000</td>\n",
       "      <td>0.000</td>\n",
       "    </tr>\n",
       "  </tbody>\n",
       "</table>\n",
       "</div>"
      ],
      "text/plain": [
       "           0          1          2          3\n",
       "0      0.000 -1,000.000 -1,000.000 -1,000.000\n",
       "1 -1,000.000 -1,000.000 -1,000.000 -1,000.000\n",
       "2 -1,000.000 -1,000.000 -1,000.000 -1,000.000\n",
       "3     -3.000     -2.000     -1.000      0.000"
      ]
     },
     "metadata": {},
     "output_type": "display_data"
    },
    {
     "name": "stdout",
     "output_type": "stream",
     "text": [
      "\n",
      "\n",
      "50\n",
      "equiprobable_random_policy | gamma: 0.9\n"
     ]
    },
    {
     "data": {
      "text/html": [
       "<div>\n",
       "<style scoped>\n",
       "    .dataframe tbody tr th:only-of-type {\n",
       "        vertical-align: middle;\n",
       "    }\n",
       "\n",
       "    .dataframe tbody tr th {\n",
       "        vertical-align: top;\n",
       "    }\n",
       "\n",
       "    .dataframe thead th {\n",
       "        text-align: right;\n",
       "    }\n",
       "</style>\n",
       "<table border=\"1\" class=\"dataframe\">\n",
       "  <thead>\n",
       "    <tr style=\"text-align: right;\">\n",
       "      <th></th>\n",
       "      <th>0</th>\n",
       "      <th>1</th>\n",
       "      <th>2</th>\n",
       "      <th>3</th>\n",
       "    </tr>\n",
       "  </thead>\n",
       "  <tbody>\n",
       "    <tr>\n",
       "      <th>0</th>\n",
       "      <td>0.000</td>\n",
       "      <td>-5.278</td>\n",
       "      <td>-7.128</td>\n",
       "      <td>-7.650</td>\n",
       "    </tr>\n",
       "    <tr>\n",
       "      <th>1</th>\n",
       "      <td>-5.278</td>\n",
       "      <td>-6.606</td>\n",
       "      <td>-7.181</td>\n",
       "      <td>-7.128</td>\n",
       "    </tr>\n",
       "    <tr>\n",
       "      <th>2</th>\n",
       "      <td>-7.128</td>\n",
       "      <td>-7.181</td>\n",
       "      <td>-6.606</td>\n",
       "      <td>-5.278</td>\n",
       "    </tr>\n",
       "    <tr>\n",
       "      <th>3</th>\n",
       "      <td>-7.650</td>\n",
       "      <td>-7.128</td>\n",
       "      <td>-5.278</td>\n",
       "      <td>0.000</td>\n",
       "    </tr>\n",
       "  </tbody>\n",
       "</table>\n",
       "</div>"
      ],
      "text/plain": [
       "       0      1      2      3\n",
       "0  0.000 -5.278 -7.128 -7.650\n",
       "1 -5.278 -6.606 -7.181 -7.128\n",
       "2 -7.128 -7.181 -6.606 -5.278\n",
       "3 -7.650 -7.128 -5.278  0.000"
      ]
     },
     "metadata": {},
     "output_type": "display_data"
    }
   ],
   "source": [
    "# TODO: implement your code here\n",
    "def go_right_policy(x, y):\n",
    "  return { \"right\": 1 }\n",
    "\n",
    "\n",
    "\n",
    "V1 = iterative_policy_evaluation(world, go_right_policy)\n",
    "print(f\"go_right_policy | gamma: {gamma}\")\n",
    "display(pd.DataFrame(V1.T))\n",
    "print(\"\\n\")\n",
    "gamma = 0.9\n",
    "V2 = iterative_policy_evaluation(world, equiprobable_random_policy)\n",
    "\n",
    "print(f\"equiprobable_random_policy | gamma: {gamma}\")\n",
    "display(pd.DataFrame(V2.T))"
   ]
  },
  {
   "cell_type": "markdown",
   "metadata": {},
   "source": [
    "### Så hvis man sætter gamma(discount rate) ned til 0.9 så bliver man mindre straffet for fremtidige actions => lavere probabilities for at nå til terminal state"
   ]
  },
  {
   "cell_type": "markdown",
   "metadata": {
    "id": "2CtRf7JInBq4"
   },
   "source": [
    "Try to write a policy that is deterministic, but where the action performed differs between states. You can implement it as a two-dimensional array with the dimensions corresponding to the world dimensions and have each entry be an action for the corresponding state."
   ]
  },
  {
   "cell_type": "code",
   "execution_count": 219,
   "metadata": {
    "id": "pel0dbaWnh1D"
   },
   "outputs": [
    {
     "name": "stdout",
     "output_type": "stream",
     "text": [
      "{'left': 1}\n",
      "2\n"
     ]
    },
    {
     "data": {
      "text/html": [
       "<div>\n",
       "<style scoped>\n",
       "    .dataframe tbody tr th:only-of-type {\n",
       "        vertical-align: middle;\n",
       "    }\n",
       "\n",
       "    .dataframe tbody tr th {\n",
       "        vertical-align: top;\n",
       "    }\n",
       "\n",
       "    .dataframe thead th {\n",
       "        text-align: right;\n",
       "    }\n",
       "</style>\n",
       "<table border=\"1\" class=\"dataframe\">\n",
       "  <thead>\n",
       "    <tr style=\"text-align: right;\">\n",
       "      <th></th>\n",
       "      <th>0</th>\n",
       "      <th>1</th>\n",
       "      <th>2</th>\n",
       "      <th>3</th>\n",
       "    </tr>\n",
       "  </thead>\n",
       "  <tbody>\n",
       "    <tr>\n",
       "      <th>0</th>\n",
       "      <td>0.000</td>\n",
       "      <td>-1.000</td>\n",
       "      <td>-2.000</td>\n",
       "      <td>-3.000</td>\n",
       "    </tr>\n",
       "    <tr>\n",
       "      <th>1</th>\n",
       "      <td>-1.000</td>\n",
       "      <td>-2.000</td>\n",
       "      <td>-3.000</td>\n",
       "      <td>-4.000</td>\n",
       "    </tr>\n",
       "    <tr>\n",
       "      <th>2</th>\n",
       "      <td>-2.000</td>\n",
       "      <td>-3.000</td>\n",
       "      <td>-4.000</td>\n",
       "      <td>-5.000</td>\n",
       "    </tr>\n",
       "    <tr>\n",
       "      <th>3</th>\n",
       "      <td>-3.000</td>\n",
       "      <td>-4.000</td>\n",
       "      <td>-5.000</td>\n",
       "      <td>0.000</td>\n",
       "    </tr>\n",
       "  </tbody>\n",
       "</table>\n",
       "</div>"
      ],
      "text/plain": [
       "       0      1      2      3\n",
       "0  0.000 -1.000 -2.000 -3.000\n",
       "1 -1.000 -2.000 -3.000 -4.000\n",
       "2 -2.000 -3.000 -4.000 -5.000\n",
       "3 -3.000 -4.000 -5.000  0.000"
      ]
     },
     "metadata": {},
     "output_type": "display_data"
    }
   ],
   "source": [
    "# TODO: implement you code here\n",
    "def deterministic_policy(x, y):\n",
    "  if x == 0:\n",
    "    return { \"up\": 1 }\n",
    "  else:\n",
    "    return { \"left\": 1}\n",
    "print(deterministic_policy(2, 2))\n",
    "\n",
    "gamma = 1\n",
    "V3 = iterative_policy_evaluation(world, deterministic_policy)\n",
    "display(pd.DataFrame(V3.T))\n"
   ]
  },
  {
   "cell_type": "markdown",
   "metadata": {
    "id": "SHDCfB_uiuxS"
   },
   "source": [
    "## Exercise - stochasticity\n",
    "\n",
    "You can adjust the degree of stochasticity in the environment by setting the global variable ```rand_move_probability``` (the probability of the world ignoring an action and performing a random move instead). What effect does stochasticity have on the state-value estimates?\n"
   ]
  },
  {
   "cell_type": "code",
   "execution_count": 220,
   "metadata": {
    "id": "ddMEnWvPcCuV"
   },
   "outputs": [
    {
     "name": "stdout",
     "output_type": "stream",
     "text": [
      "32\n"
     ]
    },
    {
     "data": {
      "text/html": [
       "<div>\n",
       "<style scoped>\n",
       "    .dataframe tbody tr th:only-of-type {\n",
       "        vertical-align: middle;\n",
       "    }\n",
       "\n",
       "    .dataframe tbody tr th {\n",
       "        vertical-align: top;\n",
       "    }\n",
       "\n",
       "    .dataframe thead th {\n",
       "        text-align: right;\n",
       "    }\n",
       "</style>\n",
       "<table border=\"1\" class=\"dataframe\">\n",
       "  <thead>\n",
       "    <tr style=\"text-align: right;\">\n",
       "      <th></th>\n",
       "      <th>0</th>\n",
       "      <th>1</th>\n",
       "      <th>2</th>\n",
       "      <th>3</th>\n",
       "    </tr>\n",
       "  </thead>\n",
       "  <tbody>\n",
       "    <tr>\n",
       "      <th>0</th>\n",
       "      <td>0.000</td>\n",
       "      <td>-2.455</td>\n",
       "      <td>-4.737</td>\n",
       "      <td>-6.567</td>\n",
       "    </tr>\n",
       "    <tr>\n",
       "      <th>1</th>\n",
       "      <td>-2.462</td>\n",
       "      <td>-4.450</td>\n",
       "      <td>-6.317</td>\n",
       "      <td>-7.714</td>\n",
       "    </tr>\n",
       "    <tr>\n",
       "      <th>2</th>\n",
       "      <td>-4.781</td>\n",
       "      <td>-6.519</td>\n",
       "      <td>-7.837</td>\n",
       "      <td>-7.843</td>\n",
       "    </tr>\n",
       "    <tr>\n",
       "      <th>3</th>\n",
       "      <td>-6.644</td>\n",
       "      <td>-7.954</td>\n",
       "      <td>-7.944</td>\n",
       "      <td>0.000</td>\n",
       "    </tr>\n",
       "  </tbody>\n",
       "</table>\n",
       "</div>"
      ],
      "text/plain": [
       "       0      1      2      3\n",
       "0  0.000 -2.455 -4.737 -6.567\n",
       "1 -2.462 -4.450 -6.317 -7.714\n",
       "2 -4.781 -6.519 -7.837 -7.843\n",
       "3 -6.644 -7.954 -7.944  0.000"
      ]
     },
     "metadata": {},
     "output_type": "display_data"
    }
   ],
   "source": [
    "# TODO: implement you code here\n",
    "rand_move_probability = 0.5\n",
    "\n",
    "V4 = iterative_policy_evaluation(world, deterministic_policy)\n",
    "display(pd.DataFrame(V4.T))"
   ]
  },
  {
   "cell_type": "markdown",
   "metadata": {},
   "source": [
    "### Du bliver straffet hårdere\n",
    "### Her er det interessant at pga der tages random moves så er felterne nederst til højre pludselig lidt mere attraktive for de har chancen for at speedrunne til terminal state på (3,3)"
   ]
  },
  {
   "cell_type": "markdown",
   "metadata": {
    "id": "pHC0cosVjU4t"
   },
   "source": [
    "## Exercise - robot, cake and mouse trap\n",
    "\n",
    "Implement a robot, cake and mouse trap example and compute state value estimates under different policies (equiprobable, always right, always right:50% or up:50%) with and without stochasticity.\n"
   ]
  },
  {
   "cell_type": "code",
   "execution_count": 221,
   "metadata": {
    "id": "ujejW_93jzQK"
   },
   "outputs": [
    {
     "name": "stdout",
     "output_type": "stream",
     "text": [
      "[['+' ' ' 'C' ' ']\n",
      " [' ' ' ' 'T' ' ']\n",
      " [' ' ' ' ' ' ' ']\n",
      " [' ' ' ' ' ' '+']]\n",
      "133\n"
     ]
    },
    {
     "data": {
      "text/html": [
       "<div>\n",
       "<style scoped>\n",
       "    .dataframe tbody tr th:only-of-type {\n",
       "        vertical-align: middle;\n",
       "    }\n",
       "\n",
       "    .dataframe tbody tr th {\n",
       "        vertical-align: top;\n",
       "    }\n",
       "\n",
       "    .dataframe thead th {\n",
       "        text-align: right;\n",
       "    }\n",
       "</style>\n",
       "<table border=\"1\" class=\"dataframe\">\n",
       "  <thead>\n",
       "    <tr style=\"text-align: right;\">\n",
       "      <th></th>\n",
       "      <th>0</th>\n",
       "      <th>1</th>\n",
       "      <th>2</th>\n",
       "      <th>3</th>\n",
       "    </tr>\n",
       "  </thead>\n",
       "  <tbody>\n",
       "    <tr>\n",
       "      <th>0</th>\n",
       "      <td>0.000</td>\n",
       "      <td>0.747</td>\n",
       "      <td>0.511</td>\n",
       "      <td>2.357</td>\n",
       "    </tr>\n",
       "    <tr>\n",
       "      <th>1</th>\n",
       "      <td>-9.824</td>\n",
       "      <td>-10.269</td>\n",
       "      <td>-4.571</td>\n",
       "      <td>-7.797</td>\n",
       "    </tr>\n",
       "    <tr>\n",
       "      <th>2</th>\n",
       "      <td>-15.203</td>\n",
       "      <td>-14.428</td>\n",
       "      <td>-12.731</td>\n",
       "      <td>-8.176</td>\n",
       "    </tr>\n",
       "    <tr>\n",
       "      <th>3</th>\n",
       "      <td>-17.357</td>\n",
       "      <td>-15.511</td>\n",
       "      <td>-10.747</td>\n",
       "      <td>0.000</td>\n",
       "    </tr>\n",
       "  </tbody>\n",
       "</table>\n",
       "</div>"
      ],
      "text/plain": [
       "        0       1       2      3\n",
       "0   0.000   0.747   0.511  2.357\n",
       "1  -9.824 -10.269  -4.571 -7.797\n",
       "2 -15.203 -14.428 -12.731 -8.176\n",
       "3 -17.357 -15.511 -10.747  0.000"
      ]
     },
     "metadata": {},
     "output_type": "display_data"
    },
    {
     "name": "stdout",
     "output_type": "stream",
     "text": [
      "1000\n"
     ]
    },
    {
     "data": {
      "text/html": [
       "<div>\n",
       "<style scoped>\n",
       "    .dataframe tbody tr th:only-of-type {\n",
       "        vertical-align: middle;\n",
       "    }\n",
       "\n",
       "    .dataframe tbody tr th {\n",
       "        vertical-align: top;\n",
       "    }\n",
       "\n",
       "    .dataframe thead th {\n",
       "        text-align: right;\n",
       "    }\n",
       "</style>\n",
       "<table border=\"1\" class=\"dataframe\">\n",
       "  <thead>\n",
       "    <tr style=\"text-align: right;\">\n",
       "      <th></th>\n",
       "      <th>0</th>\n",
       "      <th>1</th>\n",
       "      <th>2</th>\n",
       "      <th>3</th>\n",
       "    </tr>\n",
       "  </thead>\n",
       "  <tbody>\n",
       "    <tr>\n",
       "      <th>0</th>\n",
       "      <td>0.000</td>\n",
       "      <td>-984.000</td>\n",
       "      <td>-1,000.000</td>\n",
       "      <td>-1,000.000</td>\n",
       "    </tr>\n",
       "    <tr>\n",
       "      <th>1</th>\n",
       "      <td>-1,009.000</td>\n",
       "      <td>-1,009.000</td>\n",
       "      <td>-1,000.000</td>\n",
       "      <td>-1,000.000</td>\n",
       "    </tr>\n",
       "    <tr>\n",
       "      <th>2</th>\n",
       "      <td>-1,000.000</td>\n",
       "      <td>-1,000.000</td>\n",
       "      <td>-1,000.000</td>\n",
       "      <td>-1,000.000</td>\n",
       "    </tr>\n",
       "    <tr>\n",
       "      <th>3</th>\n",
       "      <td>-3.000</td>\n",
       "      <td>-2.000</td>\n",
       "      <td>-1.000</td>\n",
       "      <td>0.000</td>\n",
       "    </tr>\n",
       "  </tbody>\n",
       "</table>\n",
       "</div>"
      ],
      "text/plain": [
       "           0          1          2          3\n",
       "0      0.000   -984.000 -1,000.000 -1,000.000\n",
       "1 -1,009.000 -1,009.000 -1,000.000 -1,000.000\n",
       "2 -1,000.000 -1,000.000 -1,000.000 -1,000.000\n",
       "3     -3.000     -2.000     -1.000      0.000"
      ]
     },
     "metadata": {},
     "output_type": "display_data"
    }
   ],
   "source": [
    "# TODO: implement you code here\n",
    "# cake_trap_world is 4x4\n",
    "cake_trap_world = World(4, 4)\n",
    "\n",
    "# Rewards are -1 for each move (including when hitting a terminal state, \"+\"):\n",
    "REWARDS = {\" \": -1, \"+\": -1, \"C\": 15, \"T\": -10}\n",
    "\n",
    "\n",
    "# Add terminal states in two corners\n",
    "cake_trap_world.add_terminal(0, 0, \"+\")\n",
    "cake_trap_world.add_terminal(3, 3, \"+\")\n",
    "\n",
    "cake_trap_world.add_reward(2,0, \"C\")\n",
    "cake_trap_world.add_reward(2,1, \"T\")\n",
    "\n",
    "\n",
    "print(cake_trap_world.grid.T)\n",
    "\n",
    "rand_move_probability = 0\n",
    "\n",
    "V5 = iterative_policy_evaluation(cake_trap_world, equiprobable_random_policy)\n",
    "display(pd.DataFrame(V5.T))\n",
    "V6 = iterative_policy_evaluation(cake_trap_world, go_right_policy)\n",
    "display(pd.DataFrame(V6.T))\n"
   ]
  },
  {
   "cell_type": "code",
   "execution_count": 222,
   "metadata": {},
   "outputs": [
    {
     "name": "stdout",
     "output_type": "stream",
     "text": [
      "1000\n"
     ]
    },
    {
     "data": {
      "text/html": [
       "<div>\n",
       "<style scoped>\n",
       "    .dataframe tbody tr th:only-of-type {\n",
       "        vertical-align: middle;\n",
       "    }\n",
       "\n",
       "    .dataframe tbody tr th {\n",
       "        vertical-align: top;\n",
       "    }\n",
       "\n",
       "    .dataframe thead th {\n",
       "        text-align: right;\n",
       "    }\n",
       "</style>\n",
       "<table border=\"1\" class=\"dataframe\">\n",
       "  <thead>\n",
       "    <tr style=\"text-align: right;\">\n",
       "      <th></th>\n",
       "      <th>0</th>\n",
       "      <th>1</th>\n",
       "      <th>2</th>\n",
       "      <th>3</th>\n",
       "    </tr>\n",
       "  </thead>\n",
       "  <tbody>\n",
       "    <tr>\n",
       "      <th>0</th>\n",
       "      <td>0.000</td>\n",
       "      <td>-968.000</td>\n",
       "      <td>-984.000</td>\n",
       "      <td>-1,000.000</td>\n",
       "    </tr>\n",
       "    <tr>\n",
       "      <th>1</th>\n",
       "      <td>-491.250</td>\n",
       "      <td>-981.500</td>\n",
       "      <td>-985.000</td>\n",
       "      <td>-1,001.000</td>\n",
       "    </tr>\n",
       "    <tr>\n",
       "      <th>2</th>\n",
       "      <td>-741.375</td>\n",
       "      <td>-990.500</td>\n",
       "      <td>-998.500</td>\n",
       "      <td>-1,002.000</td>\n",
       "    </tr>\n",
       "    <tr>\n",
       "      <th>3</th>\n",
       "      <td>-744.375</td>\n",
       "      <td>-746.125</td>\n",
       "      <td>-500.250</td>\n",
       "      <td>0.000</td>\n",
       "    </tr>\n",
       "  </tbody>\n",
       "</table>\n",
       "</div>"
      ],
      "text/plain": [
       "         0        1        2          3\n",
       "0    0.000 -968.000 -984.000 -1,000.000\n",
       "1 -491.250 -981.500 -985.000 -1,001.000\n",
       "2 -741.375 -990.500 -998.500 -1,002.000\n",
       "3 -744.375 -746.125 -500.250      0.000"
      ]
     },
     "metadata": {},
     "output_type": "display_data"
    }
   ],
   "source": [
    "def right_up_policy(x, y):\n",
    "    return { \"up\": 0.5, \"right\": 0.5 }\n",
    "  \n",
    "V7 = iterative_policy_evaluation(cake_trap_world, right_up_policy)\n",
    "display(pd.DataFrame(V7.T))"
   ]
  },
  {
   "cell_type": "markdown",
   "metadata": {},
   "source": [
    "### Med stochastisitet"
   ]
  },
  {
   "cell_type": "code",
   "execution_count": 223,
   "metadata": {},
   "outputs": [
    {
     "name": "stdout",
     "output_type": "stream",
     "text": [
      "133\n"
     ]
    },
    {
     "data": {
      "text/html": [
       "<div>\n",
       "<style scoped>\n",
       "    .dataframe tbody tr th:only-of-type {\n",
       "        vertical-align: middle;\n",
       "    }\n",
       "\n",
       "    .dataframe tbody tr th {\n",
       "        vertical-align: top;\n",
       "    }\n",
       "\n",
       "    .dataframe thead th {\n",
       "        text-align: right;\n",
       "    }\n",
       "</style>\n",
       "<table border=\"1\" class=\"dataframe\">\n",
       "  <thead>\n",
       "    <tr style=\"text-align: right;\">\n",
       "      <th></th>\n",
       "      <th>0</th>\n",
       "      <th>1</th>\n",
       "      <th>2</th>\n",
       "      <th>3</th>\n",
       "    </tr>\n",
       "  </thead>\n",
       "  <tbody>\n",
       "    <tr>\n",
       "      <th>0</th>\n",
       "      <td>0.000</td>\n",
       "      <td>0.747</td>\n",
       "      <td>0.511</td>\n",
       "      <td>2.357</td>\n",
       "    </tr>\n",
       "    <tr>\n",
       "      <th>1</th>\n",
       "      <td>-9.824</td>\n",
       "      <td>-10.269</td>\n",
       "      <td>-4.571</td>\n",
       "      <td>-7.797</td>\n",
       "    </tr>\n",
       "    <tr>\n",
       "      <th>2</th>\n",
       "      <td>-15.203</td>\n",
       "      <td>-14.428</td>\n",
       "      <td>-12.731</td>\n",
       "      <td>-8.176</td>\n",
       "    </tr>\n",
       "    <tr>\n",
       "      <th>3</th>\n",
       "      <td>-17.357</td>\n",
       "      <td>-15.511</td>\n",
       "      <td>-10.747</td>\n",
       "      <td>0.000</td>\n",
       "    </tr>\n",
       "  </tbody>\n",
       "</table>\n",
       "</div>"
      ],
      "text/plain": [
       "        0       1       2      3\n",
       "0   0.000   0.747   0.511  2.357\n",
       "1  -9.824 -10.269  -4.571 -7.797\n",
       "2 -15.203 -14.428 -12.731 -8.176\n",
       "3 -17.357 -15.511 -10.747  0.000"
      ]
     },
     "metadata": {},
     "output_type": "display_data"
    },
    {
     "name": "stdout",
     "output_type": "stream",
     "text": [
      "336\n"
     ]
    },
    {
     "data": {
      "text/html": [
       "<div>\n",
       "<style scoped>\n",
       "    .dataframe tbody tr th:only-of-type {\n",
       "        vertical-align: middle;\n",
       "    }\n",
       "\n",
       "    .dataframe tbody tr th {\n",
       "        vertical-align: top;\n",
       "    }\n",
       "\n",
       "    .dataframe thead th {\n",
       "        text-align: right;\n",
       "    }\n",
       "</style>\n",
       "<table border=\"1\" class=\"dataframe\">\n",
       "  <thead>\n",
       "    <tr style=\"text-align: right;\">\n",
       "      <th></th>\n",
       "      <th>0</th>\n",
       "      <th>1</th>\n",
       "      <th>2</th>\n",
       "      <th>3</th>\n",
       "    </tr>\n",
       "  </thead>\n",
       "  <tbody>\n",
       "    <tr>\n",
       "      <th>0</th>\n",
       "      <td>0.000</td>\n",
       "      <td>-2.005</td>\n",
       "      <td>-12.466</td>\n",
       "      <td>-13.022</td>\n",
       "    </tr>\n",
       "    <tr>\n",
       "      <th>1</th>\n",
       "      <td>-20.750</td>\n",
       "      <td>-23.701</td>\n",
       "      <td>-19.147</td>\n",
       "      <td>-21.579</td>\n",
       "    </tr>\n",
       "    <tr>\n",
       "      <th>2</th>\n",
       "      <td>-18.744</td>\n",
       "      <td>-18.118</td>\n",
       "      <td>-17.119</td>\n",
       "      <td>-15.566</td>\n",
       "    </tr>\n",
       "    <tr>\n",
       "      <th>3</th>\n",
       "      <td>-11.873</td>\n",
       "      <td>-8.898</td>\n",
       "      <td>-4.860</td>\n",
       "      <td>0.000</td>\n",
       "    </tr>\n",
       "  </tbody>\n",
       "</table>\n",
       "</div>"
      ],
      "text/plain": [
       "        0       1       2       3\n",
       "0   0.000  -2.005 -12.466 -13.022\n",
       "1 -20.750 -23.701 -19.147 -21.579\n",
       "2 -18.744 -18.118 -17.119 -15.566\n",
       "3 -11.873  -8.898  -4.860   0.000"
      ]
     },
     "metadata": {},
     "output_type": "display_data"
    },
    {
     "name": "stdout",
     "output_type": "stream",
     "text": [
      "744\n"
     ]
    },
    {
     "data": {
      "text/html": [
       "<div>\n",
       "<style scoped>\n",
       "    .dataframe tbody tr th:only-of-type {\n",
       "        vertical-align: middle;\n",
       "    }\n",
       "\n",
       "    .dataframe tbody tr th {\n",
       "        vertical-align: top;\n",
       "    }\n",
       "\n",
       "    .dataframe thead th {\n",
       "        text-align: right;\n",
       "    }\n",
       "</style>\n",
       "<table border=\"1\" class=\"dataframe\">\n",
       "  <thead>\n",
       "    <tr style=\"text-align: right;\">\n",
       "      <th></th>\n",
       "      <th>0</th>\n",
       "      <th>1</th>\n",
       "      <th>2</th>\n",
       "      <th>3</th>\n",
       "    </tr>\n",
       "  </thead>\n",
       "  <tbody>\n",
       "    <tr>\n",
       "      <th>0</th>\n",
       "      <td>0.000</td>\n",
       "      <td>78.156</td>\n",
       "      <td>93.850</td>\n",
       "      <td>91.132</td>\n",
       "    </tr>\n",
       "    <tr>\n",
       "      <th>1</th>\n",
       "      <td>35.019</td>\n",
       "      <td>69.228</td>\n",
       "      <td>86.702</td>\n",
       "      <td>80.413</td>\n",
       "    </tr>\n",
       "    <tr>\n",
       "      <th>2</th>\n",
       "      <td>45.447</td>\n",
       "      <td>59.235</td>\n",
       "      <td>61.597</td>\n",
       "      <td>58.967</td>\n",
       "    </tr>\n",
       "    <tr>\n",
       "      <th>3</th>\n",
       "      <td>43.367</td>\n",
       "      <td>43.954</td>\n",
       "      <td>31.535</td>\n",
       "      <td>0.000</td>\n",
       "    </tr>\n",
       "  </tbody>\n",
       "</table>\n",
       "</div>"
      ],
      "text/plain": [
       "       0      1      2      3\n",
       "0  0.000 78.156 93.850 91.132\n",
       "1 35.019 69.228 86.702 80.413\n",
       "2 45.447 59.235 61.597 58.967\n",
       "3 43.367 43.954 31.535  0.000"
      ]
     },
     "metadata": {},
     "output_type": "display_data"
    }
   ],
   "source": [
    "rand_move_probability = 0.5\n",
    "\n",
    "V8 = iterative_policy_evaluation(cake_trap_world, equiprobable_random_policy)\n",
    "display(pd.DataFrame(V8.T))\n",
    "V9 = iterative_policy_evaluation(cake_trap_world, go_right_policy)\n",
    "display(pd.DataFrame(V9.T))\n",
    "V10 = iterative_policy_evaluation(cake_trap_world, right_up_policy)\n",
    "display(pd.DataFrame(V10.T))\n"
   ]
  },
  {
   "cell_type": "markdown",
   "metadata": {
    "id": "t_kjVW7UkDhO"
   },
   "source": [
    "## Exercise - action-value function\n",
    "\n",
    "Based on a set of calculated state values, try to implement an action value function, that is $q_\\pi(s, a)$ (if in doubt, see page 78 in [Introduction to Reinforcement Learning](http://incompleteideas.net/book/the-book-2nd.html)). Note: you have to use the ```get_state_transition_probabilities()``` method on ```World``` to be able to handle stochastic environments where performing ```a``` does not lead to a deterministic outcome."
   ]
  },
  {
   "cell_type": "code",
   "execution_count": 224,
   "metadata": {},
   "outputs": [
    {
     "name": "stdout",
     "output_type": "stream",
     "text": [
      "218\n"
     ]
    },
    {
     "data": {
      "text/html": [
       "<div>\n",
       "<style scoped>\n",
       "    .dataframe tbody tr th:only-of-type {\n",
       "        vertical-align: middle;\n",
       "    }\n",
       "\n",
       "    .dataframe tbody tr th {\n",
       "        vertical-align: top;\n",
       "    }\n",
       "\n",
       "    .dataframe thead th {\n",
       "        text-align: right;\n",
       "    }\n",
       "</style>\n",
       "<table border=\"1\" class=\"dataframe\">\n",
       "  <thead>\n",
       "    <tr style=\"text-align: right;\">\n",
       "      <th></th>\n",
       "      <th>0</th>\n",
       "      <th>1</th>\n",
       "      <th>2</th>\n",
       "      <th>3</th>\n",
       "    </tr>\n",
       "  </thead>\n",
       "  <tbody>\n",
       "    <tr>\n",
       "      <th>0</th>\n",
       "      <td>0.422</td>\n",
       "      <td>4.413</td>\n",
       "      <td>9.521</td>\n",
       "      <td>0.000</td>\n",
       "    </tr>\n",
       "    <tr>\n",
       "      <th>1</th>\n",
       "      <td>-11.537</td>\n",
       "      <td>-9.135</td>\n",
       "      <td>-9.764</td>\n",
       "      <td>0.000</td>\n",
       "    </tr>\n",
       "    <tr>\n",
       "      <th>2</th>\n",
       "      <td>-27.505</td>\n",
       "      <td>0.000</td>\n",
       "      <td>-25.499</td>\n",
       "      <td>-25.373</td>\n",
       "    </tr>\n",
       "    <tr>\n",
       "      <th>3</th>\n",
       "      <td>-35.474</td>\n",
       "      <td>-35.468</td>\n",
       "      <td>-33.867</td>\n",
       "      <td>-33.620</td>\n",
       "    </tr>\n",
       "  </tbody>\n",
       "</table>\n",
       "</div>"
      ],
      "text/plain": [
       "        0       1       2       3\n",
       "0   0.422   4.413   9.521   0.000\n",
       "1 -11.537  -9.135  -9.764   0.000\n",
       "2 -27.505   0.000 -25.499 -25.373\n",
       "3 -35.474 -35.468 -33.867 -33.620"
      ]
     },
     "metadata": {},
     "output_type": "display_data"
    }
   ],
   "source": [
    "ct_world = World(4, 4)\n",
    "\n",
    "# Rewards are -1 for each move (including when hitting a terminal state, \"+\"):\n",
    "REWARDS = {\" \": -1, \"+\": 15, \"-\": -10}\n",
    "\n",
    "\n",
    "# Add terminal states in two corners\n",
    "ct_world.add_terminal(3, 0, \"+\")\n",
    "ct_world.add_terminal(3, 1, \"-\")\n",
    "ct_world.add_obstacle(1,2)\n",
    "\n",
    "V11 = iterative_policy_evaluation(ct_world, go_right_policy)\n",
    "display(pd.DataFrame(V11.T))"
   ]
  },
  {
   "cell_type": "code",
   "execution_count": 225,
   "metadata": {
    "id": "qiCGsZ7klPzA"
   },
   "outputs": [
    {
     "name": "stdout",
     "output_type": "stream",
     "text": [
      "3.4133317859458963\n"
     ]
    }
   ],
   "source": [
    "\n",
    "\n",
    "def action_value(world, V, state, action):\n",
    "  # TODO: implement your code here\n",
    "  q = 0\n",
    "  for s_nxt, prob_nxt in world.get_state_transition_probabilities(state, action).items():\n",
    "    reward = world.get_reward(s_nxt[0],s_nxt[1])\n",
    "    # print(reward)\n",
    "    q += prob_nxt * (reward + gamma * V[s_nxt])\n",
    "  return q\n",
    "\n",
    "rand_move_probability = 0\n",
    "gamma = 1\n",
    "print(action_value(ct_world, V11, (1,1), \"up\"))\n",
    "\n",
    "\n"
   ]
  },
  {
   "cell_type": "markdown",
   "metadata": {
    "id": "hveeaq7zn2g5"
   },
   "source": [
    "## Exercise - policy iteration\n",
    "\n",
    "You are now ready to implement policy iteration. That is, first estimate state values under a given policy, then improve the policy based on those estimates and action values, estimate state values again, and so on. See page 80 in [Introduction to Reinforcement Learning](http://incompleteideas.net/book/the-book-2nd.html)\n",
    "\n",
    "You will need an explicit representation of your policy that you can easily change.\n",
    "\n",
    "Test your implementation and print out the policies found.\n"
   ]
  },
  {
   "cell_type": "code",
   "execution_count": 226,
   "metadata": {},
   "outputs": [
    {
     "name": "stdout",
     "output_type": "stream",
     "text": [
      "right\n"
     ]
    }
   ],
   "source": [
    "go_right_pol = np.full((world.width, world.height), \"right\")\n",
    "\n",
    "def explicit_policy(x,y):\n",
    "    return { go_right_pol[x,y]: 1 }\n",
    "\n",
    "print(go_right_pol[(2,2)])"
   ]
  },
  {
   "cell_type": "code",
   "execution_count": 227,
   "metadata": {
    "id": "h9WW80CWoFPh"
   },
   "outputs": [],
   "source": [
    "# TODO: Implement your code here\n",
    "def policy_iteration(world, policy):\n",
    "    # 1 Initialization and 2 Policy evaluation from given function\n",
    "    my_pol = policy\n",
    "    \n",
    "    while True:\n",
    "        V = iterative_policy_evaluation(world, explicit_policy)\n",
    "\n",
    "        policy_stable = True\n",
    "    \n",
    "        for y in range(world.height):\n",
    "            for x in range(world.width):\n",
    "                if not world.is_obstacle(x, y):\n",
    "                    old_action = my_pol[(x,y)]\n",
    "                    best_act = action_value(world, V, (x,y), my_pol[(x,y)])\n",
    "                    for act in [\"up\", \"right\", \"down\", \"left\"]:   \n",
    "                        curr_act = action_value(world, V, (x,y), act)\n",
    "                        if curr_act > best_act:\n",
    "                            best_act = curr_act\n",
    "                            my_pol[(x,y)] = act\n",
    "                    if old_action != my_pol[(x,y)]:\n",
    "                        policy_stable = False\n",
    "        if policy_stable:\n",
    "            break\n",
    "            \n",
    "    return V, my_pol"
   ]
  },
  {
   "cell_type": "code",
   "execution_count": 228,
   "metadata": {},
   "outputs": [
    {
     "name": "stdout",
     "output_type": "stream",
     "text": [
      "1000\n",
      "1000\n",
      "4\n"
     ]
    },
    {
     "data": {
      "text/html": [
       "<div>\n",
       "<style scoped>\n",
       "    .dataframe tbody tr th:only-of-type {\n",
       "        vertical-align: middle;\n",
       "    }\n",
       "\n",
       "    .dataframe tbody tr th {\n",
       "        vertical-align: top;\n",
       "    }\n",
       "\n",
       "    .dataframe thead th {\n",
       "        text-align: right;\n",
       "    }\n",
       "</style>\n",
       "<table border=\"1\" class=\"dataframe\">\n",
       "  <thead>\n",
       "    <tr style=\"text-align: right;\">\n",
       "      <th></th>\n",
       "      <th>0</th>\n",
       "      <th>1</th>\n",
       "      <th>2</th>\n",
       "      <th>3</th>\n",
       "    </tr>\n",
       "  </thead>\n",
       "  <tbody>\n",
       "    <tr>\n",
       "      <th>0</th>\n",
       "      <td>13.000</td>\n",
       "      <td>14.000</td>\n",
       "      <td>15.000</td>\n",
       "      <td>0.000</td>\n",
       "    </tr>\n",
       "    <tr>\n",
       "      <th>1</th>\n",
       "      <td>12.000</td>\n",
       "      <td>13.000</td>\n",
       "      <td>14.000</td>\n",
       "      <td>0.000</td>\n",
       "    </tr>\n",
       "    <tr>\n",
       "      <th>2</th>\n",
       "      <td>11.000</td>\n",
       "      <td>0.000</td>\n",
       "      <td>13.000</td>\n",
       "      <td>12.000</td>\n",
       "    </tr>\n",
       "    <tr>\n",
       "      <th>3</th>\n",
       "      <td>10.000</td>\n",
       "      <td>11.000</td>\n",
       "      <td>12.000</td>\n",
       "      <td>11.000</td>\n",
       "    </tr>\n",
       "  </tbody>\n",
       "</table>\n",
       "</div>"
      ],
      "text/plain": [
       "       0      1      2      3\n",
       "0 13.000 14.000 15.000  0.000\n",
       "1 12.000 13.000 14.000  0.000\n",
       "2 11.000  0.000 13.000 12.000\n",
       "3 10.000 11.000 12.000 11.000"
      ]
     },
     "metadata": {},
     "output_type": "display_data"
    },
    {
     "data": {
      "text/html": [
       "<div>\n",
       "<style scoped>\n",
       "    .dataframe tbody tr th:only-of-type {\n",
       "        vertical-align: middle;\n",
       "    }\n",
       "\n",
       "    .dataframe tbody tr th {\n",
       "        vertical-align: top;\n",
       "    }\n",
       "\n",
       "    .dataframe thead th {\n",
       "        text-align: right;\n",
       "    }\n",
       "</style>\n",
       "<table border=\"1\" class=\"dataframe\">\n",
       "  <thead>\n",
       "    <tr style=\"text-align: right;\">\n",
       "      <th></th>\n",
       "      <th>0</th>\n",
       "      <th>1</th>\n",
       "      <th>2</th>\n",
       "      <th>3</th>\n",
       "    </tr>\n",
       "  </thead>\n",
       "  <tbody>\n",
       "    <tr>\n",
       "      <th>0</th>\n",
       "      <td>right</td>\n",
       "      <td>right</td>\n",
       "      <td>right</td>\n",
       "      <td>right</td>\n",
       "    </tr>\n",
       "    <tr>\n",
       "      <th>1</th>\n",
       "      <td>up</td>\n",
       "      <td>up</td>\n",
       "      <td>up</td>\n",
       "      <td>right</td>\n",
       "    </tr>\n",
       "    <tr>\n",
       "      <th>2</th>\n",
       "      <td>up</td>\n",
       "      <td>right</td>\n",
       "      <td>up</td>\n",
       "      <td>left</td>\n",
       "    </tr>\n",
       "    <tr>\n",
       "      <th>3</th>\n",
       "      <td>up</td>\n",
       "      <td>right</td>\n",
       "      <td>up</td>\n",
       "      <td>up</td>\n",
       "    </tr>\n",
       "  </tbody>\n",
       "</table>\n",
       "</div>"
      ],
      "text/plain": [
       "       0      1      2      3\n",
       "0  right  right  right  right\n",
       "1     up     up     up  right\n",
       "2     up  right     up   left\n",
       "3     up  right     up     up"
      ]
     },
     "metadata": {},
     "output_type": "display_data"
    }
   ],
   "source": [
    "V12, pol = policy_iteration(ct_world, go_right_pol)\n",
    "display(pd.DataFrame(V12.T))\n",
    "display(pd.DataFrame(pol.T))"
   ]
  },
  {
   "cell_type": "code",
   "execution_count": null,
   "metadata": {},
   "outputs": [],
   "source": []
  },
  {
   "cell_type": "markdown",
   "metadata": {
    "id": "ijYaKkBloGdN"
   },
   "source": [
    "## Exercise - value iteration\n",
    "\n",
    "Value iteration is much more effecient than policy iteration. Implement value iteration below. See page 83 in [Introduction to Reinforcement Learning](http://incompleteideas.net/book/the-book-2nd.html).\n",
    "\n",
    "Test your implementation and display the policies found (i.e., a grid with the perferred action in each cell)."
   ]
  },
  {
   "cell_type": "code",
   "execution_count": 229,
   "metadata": {
    "id": "0lw1ZXVroJUa"
   },
   "outputs": [
    {
     "name": "stdout",
     "output_type": "stream",
     "text": [
      "3\n"
     ]
    },
    {
     "data": {
      "text/html": [
       "<div>\n",
       "<style scoped>\n",
       "    .dataframe tbody tr th:only-of-type {\n",
       "        vertical-align: middle;\n",
       "    }\n",
       "\n",
       "    .dataframe tbody tr th {\n",
       "        vertical-align: top;\n",
       "    }\n",
       "\n",
       "    .dataframe thead th {\n",
       "        text-align: right;\n",
       "    }\n",
       "</style>\n",
       "<table border=\"1\" class=\"dataframe\">\n",
       "  <thead>\n",
       "    <tr style=\"text-align: right;\">\n",
       "      <th></th>\n",
       "      <th>0</th>\n",
       "      <th>1</th>\n",
       "      <th>2</th>\n",
       "      <th>3</th>\n",
       "    </tr>\n",
       "  </thead>\n",
       "  <tbody>\n",
       "    <tr>\n",
       "      <th>0</th>\n",
       "      <td>13.000</td>\n",
       "      <td>14.000</td>\n",
       "      <td>15.000</td>\n",
       "      <td>0.000</td>\n",
       "    </tr>\n",
       "    <tr>\n",
       "      <th>1</th>\n",
       "      <td>12.000</td>\n",
       "      <td>13.000</td>\n",
       "      <td>14.000</td>\n",
       "      <td>0.000</td>\n",
       "    </tr>\n",
       "    <tr>\n",
       "      <th>2</th>\n",
       "      <td>11.000</td>\n",
       "      <td>0.000</td>\n",
       "      <td>13.000</td>\n",
       "      <td>12.000</td>\n",
       "    </tr>\n",
       "    <tr>\n",
       "      <th>3</th>\n",
       "      <td>10.000</td>\n",
       "      <td>11.000</td>\n",
       "      <td>12.000</td>\n",
       "      <td>11.000</td>\n",
       "    </tr>\n",
       "  </tbody>\n",
       "</table>\n",
       "</div>"
      ],
      "text/plain": [
       "       0      1      2      3\n",
       "0 13.000 14.000 15.000  0.000\n",
       "1 12.000 13.000 14.000  0.000\n",
       "2 11.000  0.000 13.000 12.000\n",
       "3 10.000 11.000 12.000 11.000"
      ]
     },
     "metadata": {},
     "output_type": "display_data"
    },
    {
     "data": {
      "text/html": [
       "<div>\n",
       "<style scoped>\n",
       "    .dataframe tbody tr th:only-of-type {\n",
       "        vertical-align: middle;\n",
       "    }\n",
       "\n",
       "    .dataframe tbody tr th {\n",
       "        vertical-align: top;\n",
       "    }\n",
       "\n",
       "    .dataframe thead th {\n",
       "        text-align: right;\n",
       "    }\n",
       "</style>\n",
       "<table border=\"1\" class=\"dataframe\">\n",
       "  <thead>\n",
       "    <tr style=\"text-align: right;\">\n",
       "      <th></th>\n",
       "      <th>0</th>\n",
       "      <th>1</th>\n",
       "      <th>2</th>\n",
       "      <th>3</th>\n",
       "    </tr>\n",
       "  </thead>\n",
       "  <tbody>\n",
       "    <tr>\n",
       "      <th>0</th>\n",
       "      <td>right</td>\n",
       "      <td>right</td>\n",
       "      <td>right</td>\n",
       "      <td>up</td>\n",
       "    </tr>\n",
       "    <tr>\n",
       "      <th>1</th>\n",
       "      <td>up</td>\n",
       "      <td>up</td>\n",
       "      <td>up</td>\n",
       "      <td>up</td>\n",
       "    </tr>\n",
       "    <tr>\n",
       "      <th>2</th>\n",
       "      <td>up</td>\n",
       "      <td>None</td>\n",
       "      <td>up</td>\n",
       "      <td>left</td>\n",
       "    </tr>\n",
       "    <tr>\n",
       "      <th>3</th>\n",
       "      <td>up</td>\n",
       "      <td>right</td>\n",
       "      <td>up</td>\n",
       "      <td>up</td>\n",
       "    </tr>\n",
       "  </tbody>\n",
       "</table>\n",
       "</div>"
      ],
      "text/plain": [
       "       0      1      2     3\n",
       "0  right  right  right    up\n",
       "1     up     up     up    up\n",
       "2     up   None     up  left\n",
       "3     up  right     up    up"
      ]
     },
     "metadata": {},
     "output_type": "display_data"
    },
    {
     "data": {
      "text/html": [
       "<div>\n",
       "<style scoped>\n",
       "    .dataframe tbody tr th:only-of-type {\n",
       "        vertical-align: middle;\n",
       "    }\n",
       "\n",
       "    .dataframe tbody tr th {\n",
       "        vertical-align: top;\n",
       "    }\n",
       "\n",
       "    .dataframe thead th {\n",
       "        text-align: right;\n",
       "    }\n",
       "</style>\n",
       "<table border=\"1\" class=\"dataframe\">\n",
       "  <thead>\n",
       "    <tr style=\"text-align: right;\">\n",
       "      <th></th>\n",
       "      <th>0</th>\n",
       "      <th>1</th>\n",
       "      <th>2</th>\n",
       "      <th>3</th>\n",
       "    </tr>\n",
       "  </thead>\n",
       "  <tbody>\n",
       "    <tr>\n",
       "      <th>0</th>\n",
       "      <td></td>\n",
       "      <td></td>\n",
       "      <td></td>\n",
       "      <td>+</td>\n",
       "    </tr>\n",
       "    <tr>\n",
       "      <th>1</th>\n",
       "      <td></td>\n",
       "      <td></td>\n",
       "      <td></td>\n",
       "      <td>-</td>\n",
       "    </tr>\n",
       "    <tr>\n",
       "      <th>2</th>\n",
       "      <td></td>\n",
       "      <td>#</td>\n",
       "      <td></td>\n",
       "      <td></td>\n",
       "    </tr>\n",
       "    <tr>\n",
       "      <th>3</th>\n",
       "      <td></td>\n",
       "      <td></td>\n",
       "      <td></td>\n",
       "      <td></td>\n",
       "    </tr>\n",
       "  </tbody>\n",
       "</table>\n",
       "</div>"
      ],
      "text/plain": [
       "   0  1  2  3\n",
       "0           +\n",
       "1           -\n",
       "2     #      \n",
       "3            "
      ]
     },
     "metadata": {},
     "output_type": "display_data"
    }
   ],
   "source": [
    "# TODO: Implement your code here\n",
    "\n",
    "def value_iteration(world, theta=1e-5):\n",
    "    # Our initial estimates for all states in the world is 0:\n",
    "    V = np.full((world.width, world.height), 0.0)\n",
    "    actions = [\"up\", \"right\", \"down\", \"left\"]\n",
    "    counter = 0\n",
    "\n",
    "    while True:\n",
    "        delta = 0\n",
    "        counter += 1\n",
    "        for y in range(world.height):\n",
    "            for x in range(world.width):\n",
    "                if not world.is_obstacle(x, y):\n",
    "                    v = V[x][y]\n",
    "                    V[x][y] = max(action_value(world, V, (x, y), act) for act in actions) # Beregn den bedste værdi af handlinger og opdater V(x, y)\n",
    "                    delta = max(delta, v - V[x][y])\n",
    "\n",
    "        if delta < theta:\n",
    "            break\n",
    "    \n",
    "    #deterministic policy\n",
    "    policy = np.full((world.width, world.height), None)\n",
    "    for y in range(world.height):\n",
    "        for x in range(world.width):\n",
    "            if not world.is_obstacle(x, y):\n",
    "                best_action = max(actions, key=lambda act: action_value(world, V, (x,y), act))\n",
    "\n",
    "                policy[x][y] = best_action\n",
    "\n",
    "    return V, policy, counter\n",
    "\n",
    "V13, value_policy, counter = value_iteration(ct_world)\n",
    "print(counter)\n",
    "display(pd.DataFrame(V13.T))\n",
    "display(pd.DataFrame(value_policy.T))\n",
    "display(pd.DataFrame(ct_world.grid.T))\n"
   ]
  }
 ],
 "metadata": {
  "colab": {
   "provenance": []
  },
  "kernelspec": {
   "display_name": "venv",
   "language": "python",
   "name": "python3"
  },
  "language_info": {
   "codemirror_mode": {
    "name": "ipython",
    "version": 3
   },
   "file_extension": ".py",
   "mimetype": "text/x-python",
   "name": "python",
   "nbconvert_exporter": "python",
   "pygments_lexer": "ipython3",
   "version": "3.12.3"
  }
 },
 "nbformat": 4,
 "nbformat_minor": 0
}
